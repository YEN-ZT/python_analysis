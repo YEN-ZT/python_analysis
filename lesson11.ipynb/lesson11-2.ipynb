{
 "cells": [
  {
   "cell_type": "markdown",
   "id": "f3bc781d",
   "metadata": {},
   "source": []
  }
 ],
 "metadata": {
  "kernelspec": {
   "display_name": "myenv1",
   "language": "python",
   "name": "python3"
  },
  "language_info": {
   "name": "python",
   "version": "3.10.16"
  }
 },
 "nbformat": 4,
 "nbformat_minor": 5
}
