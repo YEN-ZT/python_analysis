{
 "cells": [
  {
   "cell_type": "markdown",
   "id": "78c32af6",
   "metadata": {},
   "source": [
    "https://www.perplexity.ai/search/0638400d-59de-4d83-8e38-0cb807daf590"
   ]
  },
  {
   "cell_type": "code",
   "execution_count": null,
   "id": "33172781",
   "metadata": {},
   "outputs": [],
   "source": [
    "import numpy as np\n",
    "from numpy import ndarray\n",
    "\n",
    "my_array:ndarray = np.arange(1000000)\n",
    "my_list = list(range(1000000))"
   ]
  },
  {
   "cell_type": "code",
   "execution_count": null,
   "id": "c8e974e3",
   "metadata": {},
   "outputs": [],
   "source": [
    "%time \n",
    "\n",
    "for _ in range(10):\n",
    "    #list的comprehension,list綜合表達式\n",
    "    my_lists = [x*2 for x in my_list]"
   ]
  },
  {
   "cell_type": "code",
   "execution_count": null,
   "id": "fe93a4d6",
   "metadata": {},
   "outputs": [],
   "source": [
    "%time for _ in range(10): my_array2 = my_array * 2"
   ]
  },
  {
   "cell_type": "code",
   "execution_count": null,
   "id": "0dba338e",
   "metadata": {},
   "outputs": [],
   "source": [
    "#tuple,1個元素的表示法\n",
    "(4, 5)\n",
    "type((4,))"
   ]
  },
  {
   "cell_type": "code",
   "execution_count": null,
   "id": "4148cb83",
   "metadata": {},
   "outputs": [],
   "source": [
    "np.array(range(4)).shape"
   ]
  },
  {
   "cell_type": "markdown",
   "id": "34ee34b3",
   "metadata": {},
   "source": [
    "50個學生,每個學生有5個分數,每個分數50~100"
   ]
  },
  {
   "cell_type": "code",
   "execution_count": null,
   "id": "1d8fff7b",
   "metadata": {},
   "outputs": [],
   "source": [
    "np.random.seed(42)\n",
    "scores = np.random.randint(50, 101,(50,5))\n",
    "scores"
   ]
  },
  {
   "cell_type": "code",
   "execution_count": null,
   "id": "e3a2b872",
   "metadata": {},
   "outputs": [],
   "source": [
    "#ndarray常用的實體屬性\n",
    "scores.ndim\n",
    "scores.shape\n",
    "scores.size\n",
    "scores.dtype"
   ]
  },
  {
   "cell_type": "markdown",
   "id": "ef83534c",
   "metadata": {},
   "source": [
    "基本索引(index)和分割(slicing)\n",
    "ndarray[index]\n",
    "ndayyay[start:end:step]"
   ]
  },
  {
   "cell_type": "code",
   "execution_count": null,
   "id": "963541d2",
   "metadata": {},
   "outputs": [],
   "source": [
    "#2維\n",
    "scores[0][4] #類似list的操作\n",
    "scores[0, 4] #ndarrya的操作法"
   ]
  },
  {
   "cell_type": "code",
   "execution_count": null,
   "id": "9f522644",
   "metadata": {},
   "outputs": [],
   "source": [
    "## 取得第1位學生的分數\n",
    "scores[0] #shape(5,)\n",
    "scores[0,:] #shape(5,0)\n",
    "scores[0:1,:] #shape(1,5)"
   ]
  },
  {
   "cell_type": "code",
   "execution_count": null,
   "id": "73a96282",
   "metadata": {},
   "outputs": [],
   "source": [
    "## 取得第1,2位學生的分數\n",
    "scores[:2]\n",
    "scores[:2,:]\n",
    "scores[(0,1),:]"
   ]
  },
  {
   "cell_type": "code",
   "execution_count": null,
   "id": "c03210fd",
   "metadata": {},
   "outputs": [],
   "source": [
    "## 取得第1,2,5位學生的分數\n",
    "scores[(0,1,4),:]"
   ]
  },
  {
   "cell_type": "code",
   "execution_count": null,
   "id": "eb8f5440",
   "metadata": {},
   "outputs": [],
   "source": [
    "## 取得第1科的所有分數\n",
    "scores[:,0] #(50,)\n",
    "scores[:,0:1] #(1,50)"
   ]
  },
  {
   "cell_type": "code",
   "execution_count": null,
   "id": "01e07d9c",
   "metadata": {},
   "outputs": [],
   "source": [
    "## 取得第1,2科的所有分數\n",
    "scores[:,:2] #(50,2)"
   ]
  },
  {
   "cell_type": "code",
   "execution_count": null,
   "id": "62757992",
   "metadata": {},
   "outputs": [],
   "source": [
    "## 取得前30位學生的最後3科分數\n",
    "scores[:30,-3:] #(30,3)"
   ]
  }
 ],
 "metadata": {
  "kernelspec": {
   "display_name": "myenv",
   "language": "python",
   "name": "python3"
  },
  "language_info": {
   "codemirror_mode": {
    "name": "ipython",
    "version": 3
   },
   "file_extension": ".py",
   "mimetype": "text/x-python",
   "name": "python",
   "nbconvert_exporter": "python",
   "pygments_lexer": "ipython3",
   "version": "3.10.16"
  }
 },
 "nbformat": 4,
 "nbformat_minor": 5
}
