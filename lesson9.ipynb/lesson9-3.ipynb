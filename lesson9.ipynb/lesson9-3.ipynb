{
 "cells": [
  {
   "cell_type": "code",
   "execution_count": 12,
   "id": "fc11f780",
   "metadata": {},
   "outputs": [
    {
     "data": {
      "text/plain": [
       "list"
      ]
     },
     "execution_count": 12,
     "metadata": {},
     "output_type": "execute_result"
    }
   ],
   "source": [
    "li1 = list()\n",
    "type(li1)"
   ]
  },
  {
   "cell_type": "code",
   "execution_count": 13,
   "id": "454e0e6c",
   "metadata": {},
   "outputs": [
    {
     "data": {
      "text/plain": [
       "[3]"
      ]
     },
     "execution_count": 13,
     "metadata": {},
     "output_type": "execute_result"
    }
   ],
   "source": [
    "#使用list的實體方法\n",
    "li1.append(3)\n",
    "li1"
   ]
  },
  {
   "cell_type": "code",
   "execution_count": 14,
   "id": "a5581ed5",
   "metadata": {},
   "outputs": [
    {
     "data": {
      "text/plain": [
       "[3, 5, 7, 9]"
      ]
     },
     "execution_count": 14,
     "metadata": {},
     "output_type": "execute_result"
    }
   ],
   "source": [
    "li1.extend((5,7,9))\n",
    "li1"
   ]
  },
  {
   "cell_type": "code",
   "execution_count": 15,
   "id": "0a677c11",
   "metadata": {},
   "outputs": [
    {
     "data": {
      "text/plain": [
       "[100, 3, 5, 7, 9]"
      ]
     },
     "execution_count": 15,
     "metadata": {},
     "output_type": "execute_result"
    }
   ],
   "source": [
    "li1.insert(0,100)\n",
    "li1"
   ]
  },
  {
   "cell_type": "code",
   "execution_count": 17,
   "id": "dbb189fc",
   "metadata": {},
   "outputs": [
    {
     "data": {
      "text/plain": [
       "[100, 3, 5]"
      ]
     },
     "execution_count": 17,
     "metadata": {},
     "output_type": "execute_result"
    }
   ],
   "source": [
    "li1.pop()\n",
    "li1"
   ]
  },
  {
   "cell_type": "code",
   "execution_count": 20,
   "id": "7b5c6927",
   "metadata": {},
   "outputs": [
    {
     "name": "stdout",
     "output_type": "stream",
     "text": [
      "name\n",
      "小明\n",
      "===========\n",
      "chinese\n",
      "85\n",
      "===========\n",
      "english\n",
      "92\n",
      "===========\n",
      "math\n",
      "78\n",
      "===========\n"
     ]
    }
   ],
   "source": [
    "student = {\"name\": \"小明\", \"chinese\": 85, \"english\": 92, \"math\": 78}\n",
    "for key, value in student.items():\n",
    "    print(key)\n",
    "    print(value)\n",
    "    print(\"===========\")"
   ]
  }
 ],
 "metadata": {
  "kernelspec": {
   "display_name": "base",
   "language": "python",
   "name": "python3"
  },
  "language_info": {
   "codemirror_mode": {
    "name": "ipython",
    "version": 3
   },
   "file_extension": ".py",
   "mimetype": "text/x-python",
   "name": "python",
   "nbconvert_exporter": "python",
   "pygments_lexer": "ipython3",
   "version": "3.12.7"
  }
 },
 "nbformat": 4,
 "nbformat_minor": 5
}
