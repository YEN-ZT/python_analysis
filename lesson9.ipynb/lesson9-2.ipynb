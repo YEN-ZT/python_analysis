{
 "cells": [
  {
   "cell_type": "code",
   "execution_count": 29,
   "id": "82071551",
   "metadata": {},
   "outputs": [],
   "source": [
    "from dataclasses import dataclass\n",
    "\n",
    "@dataclass\n",
    "class Student:\n",
    "    name:str\n",
    "    chinese:int\n",
    "    english:int\n",
    "    math:int\n",
    "\n",
    "    @property\n",
    "    def sum(self):\n",
    "        return self.chinese + self.english + self.math\n"
   ]
  },
  {
   "cell_type": "code",
   "execution_count": 30,
   "id": "09b22147",
   "metadata": {},
   "outputs": [],
   "source": [
    "stu1:Student = Student(name=\"robert\",chinese=98,english=75,math=69)\n",
    "stu2:Student = Student(name=\"jenny\",chinese=87,english=92,math=75)"
   ]
  },
  {
   "cell_type": "code",
   "execution_count": 33,
   "id": "d551e2e8",
   "metadata": {},
   "outputs": [
    {
     "name": "stdout",
     "output_type": "stream",
     "text": [
      "('robert', 100, 75, 69)\n",
      "244\n"
     ]
    }
   ],
   "source": [
    "stu1.chinese = 100\n",
    "#stul.sun = 300 一般的property只可以讀,不可以寫入(readonly)\n",
    "print((stu1.name,stu1.chinese,stu1.english,stu1.math))\n",
    "print(stu1.sum)"
   ]
  },
  {
   "cell_type": "code",
   "execution_count": 34,
   "id": "e0060023",
   "metadata": {},
   "outputs": [
    {
     "name": "stdout",
     "output_type": "stream",
     "text": [
      "('jenny', 87, 92, 75)\n",
      "254\n"
     ]
    }
   ],
   "source": [
    "print((stu2.name,stu2.chinese,stu2.english,stu2.math))\n",
    "print(stu2.sum)"
   ]
  }
 ],
 "metadata": {
  "kernelspec": {
   "display_name": "base",
   "language": "python",
   "name": "python3"
  },
  "language_info": {
   "codemirror_mode": {
    "name": "ipython",
    "version": 3
   },
   "file_extension": ".py",
   "mimetype": "text/x-python",
   "name": "python",
   "nbconvert_exporter": "python",
   "pygments_lexer": "ipython3",
   "version": "3.12.7"
  }
 },
 "nbformat": 4,
 "nbformat_minor": 5
}
