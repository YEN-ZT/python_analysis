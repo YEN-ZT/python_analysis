{
 "cells": [
  {
   "cell_type": "markdown",
   "id": "5d1113ca",
   "metadata": {},
   "source": [
    "### functino的參數,可以要求是一個function"
   ]
  },
  {
   "cell_type": "code",
   "execution_count": 3,
   "id": "0f478fe7",
   "metadata": {},
   "outputs": [
    {
     "data": {
      "text/plain": [
       "[1, 3, 5, 7, 9]"
      ]
     },
     "execution_count": 3,
     "metadata": {},
     "output_type": "execute_result"
    }
   ],
   "source": [
    "numbers:list[int] = 1,2,3,4,5,6,7,8,9,10\n",
    "\n",
    "def is_odd(n):\n",
    "    if n  % 2 == 1:\n",
    "        return True\n",
    "    else:\n",
    "        return False\n",
    "#取出奇數值\n",
    "list(filter(is_odd,numbers))"
   ]
  },
  {
   "cell_type": "code",
   "execution_count": 4,
   "id": "7619db03",
   "metadata": {},
   "outputs": [
    {
     "data": {
      "text/plain": [
       "[1, 3, 5, 7, 9]"
      ]
     },
     "execution_count": 4,
     "metadata": {},
     "output_type": "execute_result"
    }
   ],
   "source": [
    "umbers:list[int] = 1,2,3,4,5,6,7,8,9,10\n",
    "\n",
    "def is_odd(n):\n",
    "    return n % 2 == 1\n",
    "\n",
    "#取出奇數值\n",
    "list(filter(is_odd,numbers))"
   ]
  },
  {
   "cell_type": "markdown",
   "id": "5776812b",
   "metadata": {},
   "source": [
    "### lambda-匿名的fanction,只可以一行"
   ]
  },
  {
   "cell_type": "code",
   "execution_count": 9,
   "id": "030f64f9",
   "metadata": {},
   "outputs": [
    {
     "data": {
      "text/plain": [
       "[1, 3, 5, 7, 9]"
      ]
     },
     "execution_count": 9,
     "metadata": {},
     "output_type": "execute_result"
    }
   ],
   "source": [
    "umbers:list[int] = 1,2,3,4,5,6,7,8,9,10\n",
    "\n",
    "\n",
    "#取出奇數值\n",
    "list(filter(lambda n:n % 2 == 1,numbers))"
   ]
  }
 ],
 "metadata": {
  "kernelspec": {
   "display_name": "base",
   "language": "python",
   "name": "python3"
  },
  "language_info": {
   "codemirror_mode": {
    "name": "ipython",
    "version": 3
   },
   "file_extension": ".py",
   "mimetype": "text/x-python",
   "name": "python",
   "nbconvert_exporter": "python",
   "pygments_lexer": "ipython3",
   "version": "3.12.7"
  }
 },
 "nbformat": 4,
 "nbformat_minor": 5
}
