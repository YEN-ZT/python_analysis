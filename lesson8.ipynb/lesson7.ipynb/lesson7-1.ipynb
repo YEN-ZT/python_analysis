{
 "cells": [
  {
   "cell_type": "code",
   "execution_count": 4,
   "id": "a277a405",
   "metadata": {},
   "outputs": [
    {
     "name": "stdout",
     "output_type": "stream",
     "text": [
      "身高:163cm\n",
      "體重:54kg\n",
      "BMI:20.3\n",
      "狀態:正常\n"
     ]
    }
   ],
   "source": [
    "height:int = int(input(\"請輸入身高公分\"))\n",
    "weight:int = int(input(\"請輸入體重公斤\"))\n",
    "BMI = round(weight/pow(height/100,2),1)\n",
    "\n",
    "print(f\"身高:{height}\"\"cm\")\n",
    "print(f\"體重:{weight}\"\"kg\")\n",
    "print(f\"BMI:{BMI}\")\n",
    "\n",
    "if BMI <18.5:\n",
    "    status = \"體重過輕\"\n",
    "elif BMI <24:\n",
    "    status = \"正常\"\n",
    "elif BMI <27:\n",
    "    status = \"輕度肥胖\"\n",
    "elif BMI <30:\n",
    "    status = \"中度肥胖\"\n",
    "elif BMI <35:\n",
    "    status = \"重度肥胖\"\n",
    "else:\n",
    "    status = \"重度肥胖\"\n",
    "print(f\"狀態:{status}\")"
   ]
  },
  {
   "cell_type": "code",
   "execution_count": 6,
   "id": "a45cb8bd",
   "metadata": {},
   "outputs": [
    {
     "data": {
      "text/plain": [
       "{'__name__': '__main__',\n",
       " '__doc__': 'Automatically created module for IPython interactive environment',\n",
       " '__package__': None,\n",
       " '__loader__': None,\n",
       " '__spec__': None,\n",
       " '__builtin__': <module 'builtins' (built-in)>,\n",
       " '__builtins__': <module 'builtins' (built-in)>,\n",
       " '_ih': ['',\n",
       "  'height:int = int(input(\"請輸入身高公分\"))\\nweight:int = int(input(\"請輸入體重公斤\"))\\nBMI = round(weight/pow(height/100,2),1)',\n",
       "  'height:int = int(input(\"請輸入身高公分\"))\\nweight:int = int(input(\"請輸入體重公斤\"))\\nBMI = round(weight/pow(height/100,2),1)\\n\\nprint(f\"身高:{height}\"\"cm\")\\nprint(f\"體重:{weight}\"\"kg\")\\nprint(f\"BMI:{BMI}\")',\n",
       "  'height:int = int(input(\"請輸入身高公分\"))\\nweight:int = int(input(\"請輸入體重公斤\"))\\nBMI = round(weight/pow(height/100,2),1)\\n\\nprint(f\"身高:{height}\"\"cm\")\\nprint(f\"體重:{weight}\"\"kg\")\\nprint(f\"BMI:{BMI}\")\\n\\nif BMI <18.5:\\n    status = \"體重過輕\"\\nelif BMI <24:\\n    status = \"正常\"\\nelif BMI <27:\\n    status = \"輕度肥胖\"\\nelif BMI <30:\\n    status = \"中度肥胖\"\\nelif BMI <35:\\n    status = \"重度肥胖\"\\nelse:\\n    status = \"重度肥胖\"\\nprint(f\"狀態:{status}\")',\n",
       "  'height:int = int(input(\"請輸入身高公分\"))\\nweight:int = int(input(\"請輸入體重公斤\"))\\nBMI = round(weight/pow(height/100,2),1)\\n\\nprint(f\"身高:{height}\"\"cm\")\\nprint(f\"體重:{weight}\"\"kg\")\\nprint(f\"BMI:{BMI}\")\\n\\nif BMI <18.5:\\n    status = \"體重過輕\"\\nelif BMI <24:\\n    status = \"正常\"\\nelif BMI <27:\\n    status = \"輕度肥胖\"\\nelif BMI <30:\\n    status = \"中度肥胖\"\\nelif BMI <35:\\n    status = \"重度肥胖\"\\nelse:\\n    status = \"重度肥胖\"\\nprint(f\"狀態:{status}\")',\n",
       "  'vars',\n",
       "  'vars()'],\n",
       " '_oh': {5: <function vars>},\n",
       " '_dh': [PosixPath('/workspaces/python_analysis/lesson8.ipynb/lesson7.ipynb')],\n",
       " 'In': ['',\n",
       "  'height:int = int(input(\"請輸入身高公分\"))\\nweight:int = int(input(\"請輸入體重公斤\"))\\nBMI = round(weight/pow(height/100,2),1)',\n",
       "  'height:int = int(input(\"請輸入身高公分\"))\\nweight:int = int(input(\"請輸入體重公斤\"))\\nBMI = round(weight/pow(height/100,2),1)\\n\\nprint(f\"身高:{height}\"\"cm\")\\nprint(f\"體重:{weight}\"\"kg\")\\nprint(f\"BMI:{BMI}\")',\n",
       "  'height:int = int(input(\"請輸入身高公分\"))\\nweight:int = int(input(\"請輸入體重公斤\"))\\nBMI = round(weight/pow(height/100,2),1)\\n\\nprint(f\"身高:{height}\"\"cm\")\\nprint(f\"體重:{weight}\"\"kg\")\\nprint(f\"BMI:{BMI}\")\\n\\nif BMI <18.5:\\n    status = \"體重過輕\"\\nelif BMI <24:\\n    status = \"正常\"\\nelif BMI <27:\\n    status = \"輕度肥胖\"\\nelif BMI <30:\\n    status = \"中度肥胖\"\\nelif BMI <35:\\n    status = \"重度肥胖\"\\nelse:\\n    status = \"重度肥胖\"\\nprint(f\"狀態:{status}\")',\n",
       "  'height:int = int(input(\"請輸入身高公分\"))\\nweight:int = int(input(\"請輸入體重公斤\"))\\nBMI = round(weight/pow(height/100,2),1)\\n\\nprint(f\"身高:{height}\"\"cm\")\\nprint(f\"體重:{weight}\"\"kg\")\\nprint(f\"BMI:{BMI}\")\\n\\nif BMI <18.5:\\n    status = \"體重過輕\"\\nelif BMI <24:\\n    status = \"正常\"\\nelif BMI <27:\\n    status = \"輕度肥胖\"\\nelif BMI <30:\\n    status = \"中度肥胖\"\\nelif BMI <35:\\n    status = \"重度肥胖\"\\nelse:\\n    status = \"重度肥胖\"\\nprint(f\"狀態:{status}\")',\n",
       "  'vars',\n",
       "  'vars()'],\n",
       " 'Out': {5: <function vars>},\n",
       " 'get_ipython': <bound method InteractiveShell.get_ipython of <ipykernel.zmqshell.ZMQInteractiveShell object at 0x755c6e973770>>,\n",
       " 'exit': <IPython.core.autocall.ZMQExitAutocall at 0x755c6e36c1a0>,\n",
       " 'quit': <IPython.core.autocall.ZMQExitAutocall at 0x755c6e36c1a0>,\n",
       " 'open': <function _io.open(file, mode='r', buffering=-1, encoding=None, errors=None, newline=None, closefd=True, opener=None)>,\n",
       " '_': <function vars>,\n",
       " '__': '',\n",
       " '___': '',\n",
       " '__vsc_ipynb_file__': '/workspaces/python_analysis/lesson8.ipynb/lesson7.ipynb/lesson7-1.ipynb',\n",
       " '_i': 'vars',\n",
       " '_ii': 'height:int = int(input(\"請輸入身高公分\"))\\nweight:int = int(input(\"請輸入體重公斤\"))\\nBMI = round(weight/pow(height/100,2),1)\\n\\nprint(f\"身高:{height}\"\"cm\")\\nprint(f\"體重:{weight}\"\"kg\")\\nprint(f\"BMI:{BMI}\")\\n\\nif BMI <18.5:\\n    status = \"體重過輕\"\\nelif BMI <24:\\n    status = \"正常\"\\nelif BMI <27:\\n    status = \"輕度肥胖\"\\nelif BMI <30:\\n    status = \"中度肥胖\"\\nelif BMI <35:\\n    status = \"重度肥胖\"\\nelse:\\n    status = \"重度肥胖\"\\nprint(f\"狀態:{status}\")',\n",
       " '_iii': 'height:int = int(input(\"請輸入身高公分\"))\\nweight:int = int(input(\"請輸入體重公斤\"))\\nBMI = round(weight/pow(height/100,2),1)\\n\\nprint(f\"身高:{height}\"\"cm\")\\nprint(f\"體重:{weight}\"\"kg\")\\nprint(f\"BMI:{BMI}\")\\n\\nif BMI <18.5:\\n    status = \"體重過輕\"\\nelif BMI <24:\\n    status = \"正常\"\\nelif BMI <27:\\n    status = \"輕度肥胖\"\\nelif BMI <30:\\n    status = \"中度肥胖\"\\nelif BMI <35:\\n    status = \"重度肥胖\"\\nelse:\\n    status = \"重度肥胖\"\\nprint(f\"狀態:{status}\")',\n",
       " '_i1': 'height:int = int(input(\"請輸入身高公分\"))\\nweight:int = int(input(\"請輸入體重公斤\"))\\nBMI = round(weight/pow(height/100,2),1)',\n",
       " '__annotations__': {'height': int, 'weight': int},\n",
       " 'height': 163,\n",
       " 'weight': 54,\n",
       " 'BMI': 20.3,\n",
       " '_i2': 'height:int = int(input(\"請輸入身高公分\"))\\nweight:int = int(input(\"請輸入體重公斤\"))\\nBMI = round(weight/pow(height/100,2),1)\\n\\nprint(f\"身高:{height}\"\"cm\")\\nprint(f\"體重:{weight}\"\"kg\")\\nprint(f\"BMI:{BMI}\")',\n",
       " '_i3': 'height:int = int(input(\"請輸入身高公分\"))\\nweight:int = int(input(\"請輸入體重公斤\"))\\nBMI = round(weight/pow(height/100,2),1)\\n\\nprint(f\"身高:{height}\"\"cm\")\\nprint(f\"體重:{weight}\"\"kg\")\\nprint(f\"BMI:{BMI}\")\\n\\nif BMI <18.5:\\n    status = \"體重過輕\"\\nelif BMI <24:\\n    status = \"正常\"\\nelif BMI <27:\\n    status = \"輕度肥胖\"\\nelif BMI <30:\\n    status = \"中度肥胖\"\\nelif BMI <35:\\n    status = \"重度肥胖\"\\nelse:\\n    status = \"重度肥胖\"\\nprint(f\"狀態:{status}\")',\n",
       " 'status': '正常',\n",
       " '_i4': 'height:int = int(input(\"請輸入身高公分\"))\\nweight:int = int(input(\"請輸入體重公斤\"))\\nBMI = round(weight/pow(height/100,2),1)\\n\\nprint(f\"身高:{height}\"\"cm\")\\nprint(f\"體重:{weight}\"\"kg\")\\nprint(f\"BMI:{BMI}\")\\n\\nif BMI <18.5:\\n    status = \"體重過輕\"\\nelif BMI <24:\\n    status = \"正常\"\\nelif BMI <27:\\n    status = \"輕度肥胖\"\\nelif BMI <30:\\n    status = \"中度肥胖\"\\nelif BMI <35:\\n    status = \"重度肥胖\"\\nelse:\\n    status = \"重度肥胖\"\\nprint(f\"狀態:{status}\")',\n",
       " '_i5': 'vars',\n",
       " '_5': <function vars>,\n",
       " '_i6': 'vars()'}"
      ]
     },
     "execution_count": 6,
     "metadata": {},
     "output_type": "execute_result"
    }
   ],
   "source": [
    "vars()"
   ]
  }
 ],
 "metadata": {
  "kernelspec": {
   "display_name": "base",
   "language": "python",
   "name": "python3"
  },
  "language_info": {
   "codemirror_mode": {
    "name": "ipython",
    "version": 3
   },
   "file_extension": ".py",
   "mimetype": "text/x-python",
   "name": "python",
   "nbconvert_exporter": "python",
   "pygments_lexer": "ipython3",
   "version": "3.12.7"
  }
 },
 "nbformat": 4,
 "nbformat_minor": 5
}
