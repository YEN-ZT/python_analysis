{
 "cells": [
  {
   "cell_type": "code",
   "execution_count": null,
   "id": "6db1792b",
   "metadata": {},
   "outputs": [],
   "source": [
    "import tools\n",
    "\n",
    "def main():\n",
    "    while(True):    \n",
    "        tools.play_game()\n",
    "        play_again:str = input(\"您還要繼續嗎(y,n)?\")\n",
    "        if play_again == \"n\":\n",
    "            break     \n",
    "    \n",
    "    print(\"猜數字遊戲結束\")\n",
    "\n",
    "if __name__ == \"__main__\":\n",
    "    main()\n",
    "    "
   ]
  }
 ],
 "metadata": {
  "kernelspec": {
   "display_name": "base",
   "language": "python",
   "name": "python3"
  },
  "language_info": {
   "name": "python",
   "version": "3.12.7"
  }
 },
 "nbformat": 4,
 "nbformat_minor": 5
}
