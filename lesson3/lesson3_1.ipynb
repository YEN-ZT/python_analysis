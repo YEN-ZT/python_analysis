{
 "cells": [
  {
   "cell_type": "markdown",
   "id": "7c7bce83",
   "metadata": {},
   "source": [
    "## 這是第三節上課內容"
   ]
  },
  {
   "cell_type": "code",
   "execution_count": 10,
   "id": "01564ad3",
   "metadata": {},
   "outputs": [
    {
     "name": "stdout",
     "output_type": "stream",
     "text": [
      "矩形的寬:345.8 高:245.896 面積是85030.84\n"
     ]
    }
   ],
   "source": [
    "width = 345.8\n",
    "height = 245.896\n",
    "type(width)\n",
    "type(height)\n",
    "area = width * height\n",
    "#type(area)\n",
    "print(f\"矩形的寬:{width} 高:{height} 面積是{round(area,ndigits=2)}\")"
   ]
  },
  {
   "cell_type": "markdown",
   "id": "a67d6bc6",
   "metadata": {},
   "source": [
    "### 重點是input()"
   ]
  },
  {
   "cell_type": "code",
   "execution_count": 12,
   "id": "2793ed39",
   "metadata": {},
   "outputs": [
    {
     "data": {
      "text/plain": [
       "float"
      ]
     },
     "execution_count": 12,
     "metadata": {},
     "output_type": "execute_result"
    }
   ],
   "source": [
    "width_input = input(\"請輸入矩形的寬:\")\n",
    "type(width_input)\n",
    "width_value = float(width_input)\n",
    "type(width_value)"
   ]
  },
  {
   "cell_type": "code",
   "execution_count": 21,
   "id": "8444703a",
   "metadata": {},
   "outputs": [
    {
     "name": "stdout",
     "output_type": "stream",
     "text": [
      "矩形的寬:34.54 高:33.78 面積是1166.76\n"
     ]
    }
   ],
   "source": [
    "width = float(input(\"請輸入矩形的寬:\"))\n",
    "height = float(input(\"請輸入矩形的高:\"))\n",
    "area = width * height\n",
    "print(f\"矩形的寬:{width} 高:{height} 面積是{round(area,ndigits=2)}\")"
   ]
  }
 ],
 "metadata": {
  "kernelspec": {
   "display_name": "base",
   "language": "python",
   "name": "python3"
  },
  "language_info": {
   "codemirror_mode": {
    "name": "ipython",
    "version": 3
   },
   "file_extension": ".py",
   "mimetype": "text/x-python",
   "name": "python",
   "nbconvert_exporter": "python",
   "pygments_lexer": "ipython3",
   "version": "3.12.7"
  }
 },
 "nbformat": 4,
 "nbformat_minor": 5
}
