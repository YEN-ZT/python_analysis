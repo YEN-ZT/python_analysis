{
 "cells": [
  {
   "cell_type": "markdown",
   "id": "9d307cfe",
   "metadata": {},
   "source": [
    "計算三角形的角度"
   ]
  },
  {
   "cell_type": "code",
   "execution_count": 5,
   "id": "6a432c4e",
   "metadata": {},
   "outputs": [
    {
     "name": "stdout",
     "output_type": "stream",
     "text": [
      "對邊: 2.5\n",
      "斜邊: 5.0\n",
      "徑度: 0.5235987755982989\n",
      "角度: 30.0\n"
     ]
    }
   ],
   "source": [
    "import math\n",
    "side = float(input(\"請輸入對邊:\"))\n",
    "another_side = float(input(\"請輸入斜邊:\"))\n",
    "radians = math.asin(side / another_side)\n",
    "degree = math.degrees(radians)\n",
    "\n",
    "math.degrees(radians)\n",
    "print(\"對邊:\",side)\n",
    "print(\"斜邊:\",another_side)\n",
    "print(\"徑度:\",radians)\n",
    "print(\"角度:\",round(degree,ndigits=2))"
   ]
  },
  {
   "cell_type": "markdown",
   "id": "1aeb8741",
   "metadata": {},
   "source": [
    "tuple ##暫時包起來"
   ]
  },
  {
   "cell_type": "code",
   "execution_count": 6,
   "id": "01e2f3c1",
   "metadata": {},
   "outputs": [
    {
     "data": {
      "text/plain": [
       "(56, 79, 68)"
      ]
     },
     "execution_count": 6,
     "metadata": {},
     "output_type": "execute_result"
    }
   ],
   "source": [
    "56, 79, 68"
   ]
  },
  {
   "cell_type": "markdown",
   "id": "cc8719ce",
   "metadata": {},
   "source": [
    "##大學的統計,標準差"
   ]
  },
  {
   "cell_type": "code",
   "execution_count": 12,
   "id": "328f5179",
   "metadata": {},
   "outputs": [
    {
     "name": "stdout",
     "output_type": "stream",
     "text": [
      "25.0 27.0 29.0\n",
      "平均:27.00\n",
      "標準差:2.00\n"
     ]
    }
   ],
   "source": [
    "import statistics\n",
    "\n",
    "n1 = float(input(\"請輸入第一個數:\"))\n",
    "n2 = float(input(\"請輸入第二個數:\"))\n",
    "n3 = float(input(\"請輸入第三個數:\"))\n",
    "average = statistics.mean((n1,n2,n3))\n",
    "std = statistics.stdev((n1,n2,n3))\n",
    "print(n1,n2,n3)\n",
    "print(f\"平均:{average:.2f}\")\n",
    "print(f\"標準差:{std:.2f}\")"
   ]
  }
 ],
 "metadata": {
  "kernelspec": {
   "display_name": "base",
   "language": "python",
   "name": "python3"
  },
  "language_info": {
   "codemirror_mode": {
    "name": "ipython",
    "version": 3
   },
   "file_extension": ".py",
   "mimetype": "text/x-python",
   "name": "python",
   "nbconvert_exporter": "python",
   "pygments_lexer": "ipython3",
   "version": "3.12.7"
  }
 },
 "nbformat": 4,
 "nbformat_minor": 5
}
