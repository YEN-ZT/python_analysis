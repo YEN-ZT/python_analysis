{
 "cells": [
  {
   "cell_type": "code",
   "execution_count": 5,
   "id": "9b0f8d7c",
   "metadata": {},
   "outputs": [
    {
     "name": "stdout",
     "output_type": "stream",
     "text": [
      "發生錯誤\n",
      "應用程式結束\n"
     ]
    }
   ],
   "source": [
    "try:\n",
    "    num = int(input(\"請輸入一個數值: \"))\n",
    "    if num % 2 == 0:\n",
    "        print(f\"{number} 是偶數\")\n",
    "    else:\n",
    "        print(f\"{number} 是奇數\")\n",
    "except ValueError:\n",
    "    print(f\"發生錯誤\")\n",
    "\n",
    "print(\"應用程式結束\")"
   ]
  }
 ],
 "metadata": {
  "kernelspec": {
   "display_name": "base",
   "language": "python",
   "name": "python3"
  },
  "language_info": {
   "codemirror_mode": {
    "name": "ipython",
    "version": 3
   },
   "file_extension": ".py",
   "mimetype": "text/x-python",
   "name": "python",
   "nbconvert_exporter": "python",
   "pygments_lexer": "ipython3",
   "version": "3.12.7"
  }
 },
 "nbformat": 4,
 "nbformat_minor": 5
}
